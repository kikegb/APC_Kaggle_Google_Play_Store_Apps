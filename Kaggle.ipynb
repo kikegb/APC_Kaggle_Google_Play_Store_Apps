{
 "cells": [
  {
   "cell_type": "markdown",
   "id": "2a03870c",
   "metadata": {},
   "source": [
    "# Cas Kaggle: \n",
    "\n",
    "## Introducció\n",
    "\n",
    "Els telèfons intel·ligents s'han covertit en una eina necessària en el nostre dia a dia ja sigui per treballar, contactar amb els nostres éssers estimats o passar el temps mort revisant les xarxes socials. Tot i així, es requereix d'un element imprescindible que en gran part diferencia el telèfon móbil amb el que ara anomenem telèfon intel·ligent: les aplicacions. \n",
    "\n",
    "Actualment existeixen milions d'aplicacions diferents disponibles per a la seva descàrrega i és decisió de l'usuari escollir quina és la que s'adequa a les seves necessitats.\n",
    "\n",
    "<img src=\"images/top-apps.jpg\" width=\"40%\">\n",
    "\n",
    "El manteniment dels serveis d'aquestes aplicacions pot ser un treball costós temporal o financerament i les persones encarregades del desenvoluament de noves aplicacions poden necessitar saber de quina forma es rebrà el seu projecte al públic general. \n",
    "\n",
    "És per aquesta raó que analitzarem el dataset de Kaggle [Google Play Store Apps](www.kaggle.com/datasets/lava18/google-play-store-apps), on s'emmagatzema informació sobre 10 mil de les aplicacions disponibles a la Play Store, amb l'objectiu de crear un model predictiu amb el qual obtenir la puntuació atribuïda a l'aplicació per part dels usuaris a partir dels altres atributs de l'aplicació.\n",
    "\n",
    "\n",
    "Per fer-ho seguirem els passos següents:\n",
    "\n",
    "* Preparació i neteja de les dades\n",
    "\n",
    "* Anàlisi de les dades\n",
    "\n",
    "* Selecció del model\n",
    "\n",
    "* Crossvalidation\n",
    "\n",
    "* Anàlisi de resultats\n"
   ]
  },
  {
   "cell_type": "markdown",
   "id": "119a8a5b",
   "metadata": {},
   "source": [
    "## Dependencies\n",
    "\n",
    "Importem les llibreries necessàries per l'execució del notebook:"
   ]
  },
  {
   "cell_type": "code",
   "execution_count": 304,
   "id": "7f03d600",
   "metadata": {},
   "outputs": [],
   "source": [
    "import numpy as np\n",
    "import pandas as pd\n",
    "%matplotlib notebook\n",
    "from matplotlib import pyplot as pl\n",
    "from sklearn import preprocessing\n",
    "from sklearn.impute import SimpleImputer\n",
    "import datetime as dt"
   ]
  },
  {
   "cell_type": "markdown",
   "id": "fbd4ee72",
   "metadata": {},
   "source": [
    "## 1. Preparació i neteja de les dades\n",
    "\n",
    "En aquest primer apartat analitzarem quines són les dades disponibles al dataset i les prepararem i netejarem per el seu ús en l'entrenament i testejat del model d'aprenentatge.\n",
    "\n",
    "### 1.1. Informació de les dades\n",
    "\n",
    "Per començar carreguem el dataset des del fitxer i mostrem algunes files."
   ]
  },
  {
   "cell_type": "code",
   "execution_count": 305,
   "id": "398f3af5",
   "metadata": {},
   "outputs": [
    {
     "name": "stdout",
     "output_type": "stream",
     "text": [
      "Dimensionalitat de la BBDD: (10841, 13)\n"
     ]
    },
    {
     "data": {
      "text/html": [
       "<div>\n",
       "<style scoped>\n",
       "    .dataframe tbody tr th:only-of-type {\n",
       "        vertical-align: middle;\n",
       "    }\n",
       "\n",
       "    .dataframe tbody tr th {\n",
       "        vertical-align: top;\n",
       "    }\n",
       "\n",
       "    .dataframe thead th {\n",
       "        text-align: right;\n",
       "    }\n",
       "</style>\n",
       "<table border=\"1\" class=\"dataframe\">\n",
       "  <thead>\n",
       "    <tr style=\"text-align: right;\">\n",
       "      <th></th>\n",
       "      <th>App</th>\n",
       "      <th>Category</th>\n",
       "      <th>Rating</th>\n",
       "      <th>Reviews</th>\n",
       "      <th>Size</th>\n",
       "      <th>Installs</th>\n",
       "      <th>Type</th>\n",
       "      <th>Price</th>\n",
       "      <th>Content Rating</th>\n",
       "      <th>Genres</th>\n",
       "      <th>Last Updated</th>\n",
       "      <th>Current Ver</th>\n",
       "      <th>Android Ver</th>\n",
       "    </tr>\n",
       "  </thead>\n",
       "  <tbody>\n",
       "    <tr>\n",
       "      <th>0</th>\n",
       "      <td>Photo Editor &amp; Candy Camera &amp; Grid &amp; ScrapBook</td>\n",
       "      <td>ART_AND_DESIGN</td>\n",
       "      <td>4.1</td>\n",
       "      <td>159</td>\n",
       "      <td>19M</td>\n",
       "      <td>10,000+</td>\n",
       "      <td>Free</td>\n",
       "      <td>0</td>\n",
       "      <td>Everyone</td>\n",
       "      <td>Art &amp; Design</td>\n",
       "      <td>January 7, 2018</td>\n",
       "      <td>1.0.0</td>\n",
       "      <td>4.0.3 and up</td>\n",
       "    </tr>\n",
       "    <tr>\n",
       "      <th>1</th>\n",
       "      <td>Coloring book moana</td>\n",
       "      <td>ART_AND_DESIGN</td>\n",
       "      <td>3.9</td>\n",
       "      <td>967</td>\n",
       "      <td>14M</td>\n",
       "      <td>500,000+</td>\n",
       "      <td>Free</td>\n",
       "      <td>0</td>\n",
       "      <td>Everyone</td>\n",
       "      <td>Art &amp; Design;Pretend Play</td>\n",
       "      <td>January 15, 2018</td>\n",
       "      <td>2.0.0</td>\n",
       "      <td>4.0.3 and up</td>\n",
       "    </tr>\n",
       "    <tr>\n",
       "      <th>2</th>\n",
       "      <td>U Launcher Lite – FREE Live Cool Themes, Hide ...</td>\n",
       "      <td>ART_AND_DESIGN</td>\n",
       "      <td>4.7</td>\n",
       "      <td>87510</td>\n",
       "      <td>8.7M</td>\n",
       "      <td>5,000,000+</td>\n",
       "      <td>Free</td>\n",
       "      <td>0</td>\n",
       "      <td>Everyone</td>\n",
       "      <td>Art &amp; Design</td>\n",
       "      <td>August 1, 2018</td>\n",
       "      <td>1.2.4</td>\n",
       "      <td>4.0.3 and up</td>\n",
       "    </tr>\n",
       "    <tr>\n",
       "      <th>3</th>\n",
       "      <td>Sketch - Draw &amp; Paint</td>\n",
       "      <td>ART_AND_DESIGN</td>\n",
       "      <td>4.5</td>\n",
       "      <td>215644</td>\n",
       "      <td>25M</td>\n",
       "      <td>50,000,000+</td>\n",
       "      <td>Free</td>\n",
       "      <td>0</td>\n",
       "      <td>Teen</td>\n",
       "      <td>Art &amp; Design</td>\n",
       "      <td>June 8, 2018</td>\n",
       "      <td>Varies with device</td>\n",
       "      <td>4.2 and up</td>\n",
       "    </tr>\n",
       "    <tr>\n",
       "      <th>4</th>\n",
       "      <td>Pixel Draw - Number Art Coloring Book</td>\n",
       "      <td>ART_AND_DESIGN</td>\n",
       "      <td>4.3</td>\n",
       "      <td>967</td>\n",
       "      <td>2.8M</td>\n",
       "      <td>100,000+</td>\n",
       "      <td>Free</td>\n",
       "      <td>0</td>\n",
       "      <td>Everyone</td>\n",
       "      <td>Art &amp; Design;Creativity</td>\n",
       "      <td>June 20, 2018</td>\n",
       "      <td>1.1</td>\n",
       "      <td>4.4 and up</td>\n",
       "    </tr>\n",
       "  </tbody>\n",
       "</table>\n",
       "</div>"
      ],
      "text/plain": [
       "                                                 App        Category  Rating  \\\n",
       "0     Photo Editor & Candy Camera & Grid & ScrapBook  ART_AND_DESIGN     4.1   \n",
       "1                                Coloring book moana  ART_AND_DESIGN     3.9   \n",
       "2  U Launcher Lite – FREE Live Cool Themes, Hide ...  ART_AND_DESIGN     4.7   \n",
       "3                              Sketch - Draw & Paint  ART_AND_DESIGN     4.5   \n",
       "4              Pixel Draw - Number Art Coloring Book  ART_AND_DESIGN     4.3   \n",
       "\n",
       "  Reviews  Size     Installs  Type Price Content Rating  \\\n",
       "0     159   19M      10,000+  Free     0       Everyone   \n",
       "1     967   14M     500,000+  Free     0       Everyone   \n",
       "2   87510  8.7M   5,000,000+  Free     0       Everyone   \n",
       "3  215644   25M  50,000,000+  Free     0           Teen   \n",
       "4     967  2.8M     100,000+  Free     0       Everyone   \n",
       "\n",
       "                      Genres      Last Updated         Current Ver  \\\n",
       "0               Art & Design   January 7, 2018               1.0.0   \n",
       "1  Art & Design;Pretend Play  January 15, 2018               2.0.0   \n",
       "2               Art & Design    August 1, 2018               1.2.4   \n",
       "3               Art & Design      June 8, 2018  Varies with device   \n",
       "4    Art & Design;Creativity     June 20, 2018                 1.1   \n",
       "\n",
       "    Android Ver  \n",
       "0  4.0.3 and up  \n",
       "1  4.0.3 and up  \n",
       "2  4.0.3 and up  \n",
       "3    4.2 and up  \n",
       "4    4.4 and up  "
      ]
     },
     "execution_count": 305,
     "metadata": {},
     "output_type": "execute_result"
    }
   ],
   "source": [
    "# Carreguem el dataset\n",
    "df = pd.read_csv('data/googleplaystore.csv', header=0, delimiter=',')\n",
    "data = dataset.values\n",
    "\n",
    "print(\"Dimensionalitat de la BBDD:\", df.shape)\n",
    "df.head(5)"
   ]
  },
  {
   "cell_type": "markdown",
   "id": "c959f1d8",
   "metadata": {},
   "source": [
    "Observem que el dataset compta amb un total de 13 atributs:\n",
    "\n",
    "* **App:** Nom de l'aplicació.\n",
    "* **Category:** Categoria assignada a laplicació.\n",
    "* **Rating:** Punctuació mitjana dels usuaris. Valor decimal entre 0 i 5.\n",
    "* **Reviews:** Nombre de ressenyes rebudes dels usuaris.\n",
    "* **Size:** Tamany de l'aplicació en Bytes.\n",
    "* **Installs:** Nombre aproximat d'instal·lacions.\n",
    "* **Type:** Tipus indicant si l'aplicació és de pagament.\n",
    "* **Price:** Preu de compra.\n",
    "* **Content Rating:** Indica el públic a qui va dirigida l'aplicació.\n",
    "* **Genres:** Gèneres assignats a més de la categoría principal.\n",
    "* **Last Updated:** Data de la darrera actualització emesa.\n",
    "* **Current Ver:** Versió actual.\n",
    "* **Android Ver:** Versions d'Android Compatibles.\n",
    "\n",
    "\n",
    "A continuació comprovem si existeixen elements buits per cadascún dels atributs."
   ]
  },
  {
   "cell_type": "code",
   "execution_count": 306,
   "id": "bc100c4f",
   "metadata": {},
   "outputs": [
    {
     "name": "stdout",
     "output_type": "stream",
     "text": [
      "Nombre de valors no existents:\n",
      "App                  0\n",
      "Category             0\n",
      "Rating            1474\n",
      "Reviews              0\n",
      "Size                 0\n",
      "Installs             0\n",
      "Type                 1\n",
      "Price                0\n",
      "Content Rating       1\n",
      "Genres               0\n",
      "Last Updated         0\n",
      "Current Ver          8\n",
      "Android Ver          3\n",
      "dtype: int64\n"
     ]
    }
   ],
   "source": [
    "print(\"Nombre de valors no existents:\")\n",
    "print(df.isnull().sum())"
   ]
  },
  {
   "cell_type": "markdown",
   "id": "eb88f675",
   "metadata": {},
   "source": [
    "Observem que als atributs *Rating*, *Type*, *Content Rating*, *Current Ver* i *Android Ver* en tenen algún element inexistent. Per tant caldrà omplir aquests buits."
   ]
  },
  {
   "cell_type": "code",
   "execution_count": 307,
   "id": "8a55c6fc",
   "metadata": {},
   "outputs": [
    {
     "name": "stdout",
     "output_type": "stream",
     "text": [
      "Tipus de dades a cada columna:\n",
      "App                object\n",
      "Category           object\n",
      "Rating            float64\n",
      "Reviews            object\n",
      "Size               object\n",
      "Installs           object\n",
      "Type               object\n",
      "Price              object\n",
      "Content Rating     object\n",
      "Genres             object\n",
      "Last Updated       object\n",
      "Current Ver        object\n",
      "Android Ver        object\n",
      "dtype: object\n"
     ]
    }
   ],
   "source": [
    "print(\"Tipus de dades a cada columna:\")\n",
    "print(df.dtypes)"
   ]
  },
  {
   "cell_type": "markdown",
   "id": "d1a23c2d",
   "metadata": {},
   "source": [
    "Quan l'atribut s'indica de tipus *object* ens indica que existeixen diversos tipus de dades en aquella columna. Per tant també cal netejar les dades que puguin ser de tipus diferent a l'esperat, ja que poden ser valor erronis."
   ]
  },
  {
   "cell_type": "markdown",
   "id": "618e5ee5",
   "metadata": {},
   "source": [
    "### 1.2. Preprocessament de dades\n",
    "\n",
    "Inicialment eliminem la columna de l'atribut *App*, ja que emmagatzema valors únics que no aporten informació útil al model i serveixen únicament com a identificadors."
   ]
  },
  {
   "cell_type": "code",
   "execution_count": 308,
   "id": "e0c691dc",
   "metadata": {},
   "outputs": [
    {
     "name": "stdout",
     "output_type": "stream",
     "text": [
      "Columnes restants:\n",
      "['Category' 'Rating' 'Reviews' 'Size' 'Installs' 'Type' 'Price'\n",
      " 'Content Rating' 'Genres' 'Last Updated' 'Current Ver' 'Android Ver']\n"
     ]
    }
   ],
   "source": [
    "#Indexs de les columnes a utilitzar. Eliminem columnes 0 (PassengerId), 3 (Name), 8 (Ticket) i 10 (Cabin)\n",
    "dataset = df.drop(['App'], axis=1)\n",
    "data = dataset.values\n",
    "\n",
    "print(\"Columnes restants:\")\n",
    "print(dataset.columns.values)"
   ]
  },
  {
   "cell_type": "markdown",
   "id": "9357fd3e",
   "metadata": {},
   "source": [
    "Els atributs *Category*, *Type*, *Content Rating* i *Genres* són categórics i de tipus string. Per poder ser utilitzats pel model cal codificar-los en valors numèrics."
   ]
  },
  {
   "cell_type": "code",
   "execution_count": 309,
   "id": "55583f19",
   "metadata": {},
   "outputs": [],
   "source": [
    "le = preprocessing.LabelEncoder()\n",
    "\n",
    "# Codifiquem l'atribut 'Category'\n",
    "dataset[\"Category\"] = le.fit_transform(dataset[\"Category\"])\n",
    "\n",
    "# Codifiquem l'atribut 'Type'\n",
    "dataset[\"Type\"] = le.fit_transform(dataset[\"Type\"])\n",
    "\n",
    "# Codifiquem l'atribut 'Content Rating'\n",
    "dataset[\"Content Rating\"] = le.fit_transform(dataset[\"Content Rating\"])\n",
    "\n",
    "# Codifiquem l'atribut 'Genres'\n",
    "dataset[\"Genres\"] = le.fit_transform(dataset[\"Genres\"])\n"
   ]
  },
  {
   "cell_type": "markdown",
   "id": "aa2c5c46",
   "metadata": {},
   "source": [
    "En els atributs *Size* i *Installs* ens nombres s'emagatzemen en format en format '100k' i '10,000+' respectivament. Hem de formatejarlos a un nombre sencer. \n",
    "\n",
    "A més, a *Android Ver* la versió va acompanyada de '*and up*' indicant que s'accepten versions superiors. Cal deixar només el nombre de versió, el qual tranformarem en un sencer eliminant els punts que separen els números. També eliminem aquests punts a l'atribut *Current Ver* per poder passar-lo a numèric."
   ]
  },
  {
   "cell_type": "code",
   "execution_count": 310,
   "id": "15eb652a",
   "metadata": {},
   "outputs": [],
   "source": [
    "#Formatejat de 'Size'. 1k --> 1000 ; 1M --> 1000000\n",
    "column = dataset[\"Size\"].replace({\"k\":\"*1e3\", \"M\":\"*1e6\"}, regex=True)\n",
    "for x in range(len(column)):\n",
    "    try:\n",
    "        column[x] = pd.eval(column[x])\n",
    "    except SyntaxError:\n",
    "        pass\n",
    "dataset[\"Size\"] = column\n",
    "\n",
    "# Formatejat de 'Installs'. 10,000 --> 10000\n",
    "column = dataset[\"Installs\"].str.replace(\"+\", \"\", regex=True)\n",
    "column = column.str.replace(\",\", \"\", regex=True)\n",
    "dataset[\"Installs\"] = column\n",
    "\n",
    "#Formatejat de 'Android Ver'. 1.0.3.0 and up --> 1030\n",
    "column = dataset[\"Android Ver\"].str.replace(\" and up\", \"\", regex=True)\n",
    "column = column.str.replace(\".\", \"\", regex=True)\n",
    "dataset[\"Android Ver\"] = column\n",
    "\n",
    "#Formatejat de 'Current Ver'. 1.0.3.0 --> 1030\n",
    "dataset[\"Current Ver\"] = dataset[\"Current Ver\"].str.replace(\".\", \"\", regex=True)\n"
   ]
  },
  {
   "cell_type": "markdown",
   "id": "0a066ec1",
   "metadata": {},
   "source": [
    "Farem servir la funció *to_numeric()* amb l'argument *error='coerce'* per eliminar valors erronis als atributs numèrics i substituir-los per NaN. Els nostres atributs numèrics són *Rating*, *Reviews*, *Size*, *Installs*, *Price*, *Current Ver* i *Android Ver*."
   ]
  },
  {
   "cell_type": "code",
   "execution_count": 311,
   "id": "2fcfbeff",
   "metadata": {},
   "outputs": [],
   "source": [
    "# Passar a valors numérics i eliminar valors erronis (omplir amb NaN).\n",
    "cols = [\"Rating\", \"Reviews\", \"Size\", \"Installs\", \"Price\", \"Current Ver\", \"Android Ver\"]\n",
    "for x in cols:\n",
    "    dataset[x] = pd.to_numeric(dataset[x], errors='coerce')"
   ]
  },
  {
   "cell_type": "markdown",
   "id": "48f33aa8",
   "metadata": {},
   "source": [
    "A l'atribut *Last Updated* s'emmagatzemen dates en format '*Month DD, YYYY*'. Per poder processar-les les transformarem a temps Unix, és a dir, nombre de segons des de l'1 de gener de 1970."
   ]
  },
  {
   "cell_type": "code",
   "execution_count": 312,
   "id": "95f9d4ec",
   "metadata": {},
   "outputs": [],
   "source": [
    "#Pas de dates a temps Unix\n",
    "dataset[\"Last Updated\"] = pd.to_datetime(dataset[\"Last Updated\"], format='%B %d, %Y', errors='coerce')\n",
    "dataset[\"Last Updated\"] = (dataset[\"Last Updated\"] - dt.datetime(1970,1,1)).dt.total_seconds()\n"
   ]
  },
  {
   "cell_type": "markdown",
   "id": "2d236cd2",
   "metadata": {},
   "source": [
    "Per acabar omplirem els valors buits presents al dataset per la mitjana dels valors de cada columna utilitzant *SimpleImputer* de la llibreria *sklearn*."
   ]
  },
  {
   "cell_type": "code",
   "execution_count": 313,
   "id": "8cda0f1d",
   "metadata": {},
   "outputs": [
    {
     "name": "stdout",
     "output_type": "stream",
     "text": [
      "Nombre de valors no existents:\n",
      "Category             0\n",
      "Rating            1474\n",
      "Reviews              1\n",
      "Size              1696\n",
      "Installs             1\n",
      "Type                 0\n",
      "Price              801\n",
      "Content Rating       0\n",
      "Genres               0\n",
      "Last Updated         1\n",
      "Current Ver       1872\n",
      "Android Ver       1386\n",
      "dtype: int64\n"
     ]
    }
   ],
   "source": [
    "print(\"Nombre de valors no existents:\")\n",
    "print(dataset.isnull().sum())"
   ]
  },
  {
   "cell_type": "code",
   "execution_count": 314,
   "id": "e0049949",
   "metadata": {},
   "outputs": [],
   "source": [
    "#Omplim valors buits\n",
    "data = dataset.values\n",
    "imp_mean = SimpleImputer(missing_values=np.nan, strategy='mean')\n",
    "data = imp_mean.fit_transform(data)\n",
    "\n",
    "#Actualitzem dataset\n",
    "dataset = pd.DataFrame(data=data, columns=list(dataset.columns))\n",
    "data = dataset.values"
   ]
  },
  {
   "cell_type": "markdown",
   "id": "ab1c171e",
   "metadata": {},
   "source": [
    "Amb aixó les dades ja es troben preparades per ser treballades pel model. A continuació comprovem que després del preprocessament de les dades ja que no existeixen dades buides i mostrem algunes files del dataset per veure que es troben en format correcte."
   ]
  },
  {
   "cell_type": "code",
   "execution_count": 315,
   "id": "8f9c9a6c",
   "metadata": {
    "scrolled": true
   },
   "outputs": [
    {
     "name": "stdout",
     "output_type": "stream",
     "text": [
      "Nombre de valors no existents:\n",
      "Category          0\n",
      "Rating            0\n",
      "Reviews           0\n",
      "Size              0\n",
      "Installs          0\n",
      "Type              0\n",
      "Price             0\n",
      "Content Rating    0\n",
      "Genres            0\n",
      "Last Updated      0\n",
      "Current Ver       0\n",
      "Android Ver       0\n",
      "dtype: int64\n",
      "Estat del dataset:\n"
     ]
    },
    {
     "data": {
      "text/html": [
       "<div>\n",
       "<style scoped>\n",
       "    .dataframe tbody tr th:only-of-type {\n",
       "        vertical-align: middle;\n",
       "    }\n",
       "\n",
       "    .dataframe tbody tr th {\n",
       "        vertical-align: top;\n",
       "    }\n",
       "\n",
       "    .dataframe thead th {\n",
       "        text-align: right;\n",
       "    }\n",
       "</style>\n",
       "<table border=\"1\" class=\"dataframe\">\n",
       "  <thead>\n",
       "    <tr style=\"text-align: right;\">\n",
       "      <th></th>\n",
       "      <th>Category</th>\n",
       "      <th>Rating</th>\n",
       "      <th>Reviews</th>\n",
       "      <th>Size</th>\n",
       "      <th>Installs</th>\n",
       "      <th>Type</th>\n",
       "      <th>Price</th>\n",
       "      <th>Content Rating</th>\n",
       "      <th>Genres</th>\n",
       "      <th>Last Updated</th>\n",
       "      <th>Current Ver</th>\n",
       "      <th>Android Ver</th>\n",
       "    </tr>\n",
       "  </thead>\n",
       "  <tbody>\n",
       "    <tr>\n",
       "      <th>0</th>\n",
       "      <td>1.0</td>\n",
       "      <td>4.1</td>\n",
       "      <td>159.0</td>\n",
       "      <td>19000000.0</td>\n",
       "      <td>10000.0</td>\n",
       "      <td>1.0</td>\n",
       "      <td>0.0</td>\n",
       "      <td>1.0</td>\n",
       "      <td>9.0</td>\n",
       "      <td>1.515283e+09</td>\n",
       "      <td>1.000000e+02</td>\n",
       "      <td>403.0</td>\n",
       "    </tr>\n",
       "    <tr>\n",
       "      <th>1</th>\n",
       "      <td>1.0</td>\n",
       "      <td>3.9</td>\n",
       "      <td>967.0</td>\n",
       "      <td>14000000.0</td>\n",
       "      <td>500000.0</td>\n",
       "      <td>1.0</td>\n",
       "      <td>0.0</td>\n",
       "      <td>1.0</td>\n",
       "      <td>12.0</td>\n",
       "      <td>1.515974e+09</td>\n",
       "      <td>2.000000e+02</td>\n",
       "      <td>403.0</td>\n",
       "    </tr>\n",
       "    <tr>\n",
       "      <th>2</th>\n",
       "      <td>1.0</td>\n",
       "      <td>4.7</td>\n",
       "      <td>87510.0</td>\n",
       "      <td>8700000.0</td>\n",
       "      <td>5000000.0</td>\n",
       "      <td>1.0</td>\n",
       "      <td>0.0</td>\n",
       "      <td>1.0</td>\n",
       "      <td>9.0</td>\n",
       "      <td>1.533082e+09</td>\n",
       "      <td>1.240000e+02</td>\n",
       "      <td>403.0</td>\n",
       "    </tr>\n",
       "    <tr>\n",
       "      <th>3</th>\n",
       "      <td>1.0</td>\n",
       "      <td>4.5</td>\n",
       "      <td>215644.0</td>\n",
       "      <td>25000000.0</td>\n",
       "      <td>50000000.0</td>\n",
       "      <td>1.0</td>\n",
       "      <td>0.0</td>\n",
       "      <td>4.0</td>\n",
       "      <td>9.0</td>\n",
       "      <td>1.528416e+09</td>\n",
       "      <td>7.993792e+10</td>\n",
       "      <td>42.0</td>\n",
       "    </tr>\n",
       "    <tr>\n",
       "      <th>4</th>\n",
       "      <td>1.0</td>\n",
       "      <td>4.3</td>\n",
       "      <td>967.0</td>\n",
       "      <td>2800000.0</td>\n",
       "      <td>100000.0</td>\n",
       "      <td>1.0</td>\n",
       "      <td>0.0</td>\n",
       "      <td>1.0</td>\n",
       "      <td>11.0</td>\n",
       "      <td>1.529453e+09</td>\n",
       "      <td>1.100000e+01</td>\n",
       "      <td>44.0</td>\n",
       "    </tr>\n",
       "  </tbody>\n",
       "</table>\n",
       "</div>"
      ],
      "text/plain": [
       "   Category  Rating   Reviews        Size    Installs  Type  Price  \\\n",
       "0       1.0     4.1     159.0  19000000.0     10000.0   1.0    0.0   \n",
       "1       1.0     3.9     967.0  14000000.0    500000.0   1.0    0.0   \n",
       "2       1.0     4.7   87510.0   8700000.0   5000000.0   1.0    0.0   \n",
       "3       1.0     4.5  215644.0  25000000.0  50000000.0   1.0    0.0   \n",
       "4       1.0     4.3     967.0   2800000.0    100000.0   1.0    0.0   \n",
       "\n",
       "   Content Rating  Genres  Last Updated   Current Ver  Android Ver  \n",
       "0             1.0     9.0  1.515283e+09  1.000000e+02        403.0  \n",
       "1             1.0    12.0  1.515974e+09  2.000000e+02        403.0  \n",
       "2             1.0     9.0  1.533082e+09  1.240000e+02        403.0  \n",
       "3             4.0     9.0  1.528416e+09  7.993792e+10         42.0  \n",
       "4             1.0    11.0  1.529453e+09  1.100000e+01         44.0  "
      ]
     },
     "execution_count": 315,
     "metadata": {},
     "output_type": "execute_result"
    }
   ],
   "source": [
    "print(\"Nombre de valors no existents:\")\n",
    "print(dataset.isnull().sum())\n",
    "\n",
    "print(\"Estat del dataset:\")\n",
    "dataset.head(5)"
   ]
  },
  {
   "cell_type": "code",
   "execution_count": null,
   "id": "609cc13a",
   "metadata": {},
   "outputs": [],
   "source": []
  }
 ],
 "metadata": {
  "kernelspec": {
   "display_name": "Python 3 (ipykernel)",
   "language": "python",
   "name": "python3"
  },
  "language_info": {
   "codemirror_mode": {
    "name": "ipython",
    "version": 3
   },
   "file_extension": ".py",
   "mimetype": "text/x-python",
   "name": "python",
   "nbconvert_exporter": "python",
   "pygments_lexer": "ipython3",
   "version": "3.9.12"
  }
 },
 "nbformat": 4,
 "nbformat_minor": 5
}
