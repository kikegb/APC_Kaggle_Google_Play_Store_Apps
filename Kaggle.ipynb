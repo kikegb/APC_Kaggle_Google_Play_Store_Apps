{
 "cells": [
  {
   "cell_type": "markdown",
   "id": "2a03870c",
   "metadata": {},
   "source": [
    "# Cas Kaggle: \n",
    "\n",
    "## Introducció\n",
    "\n",
    "Els telèfons intel·ligents s'han covertit en una eina necessària en el nostre dia a dia ja sigui per treballar, contactar amb els nostres éssers estimats o passar el temps mort revisant les xarxes socials. Tot i així, es requereix d'un element imprescindible que en gran part diferencia el telèfon móbil amb el que ara anomenem telèfon intel·ligent: les aplicacions. \n",
    "\n",
    "Actualment existeixen milions d'aplicacions diferents disponibles per a la seva descàrrega i és decisió de l'usuari escollir quina és la que s'adequa a les seves necessitats.\n",
    "\n",
    "<img src=\"images/top-apps.jpg\" width=\"40%\">\n",
    "\n",
    "El manteniment dels serveis d'aquestes aplicacions pot ser un treball costós temporal o financerament i les persones encarregades del desenvoluament de noves aplicacions poden necessitar saber de quina forma es rebrà el seu projecte al públic general. \n",
    "\n",
    "És per aquesta raó que analitzarem el dataset de Kaggle [Google Play Store Apps](www.kaggle.com/datasets/lava18/google-play-store-apps), on s'emmagatzema informació sobre 10 mil de les aplicacions disponibles a la Play Store, amb l'objectiu de crear un model predictiu amb el qual obtenir la puntuació atribuïda a l'aplicació per part dels usuaris a partir dels altres atributs de l'aplicació.\n",
    "\n",
    "\n",
    "Per fer-ho seguirem els passos següents:\n",
    "\n",
    "* Preprocessament de dades\n",
    "\n",
    "* Anàlisi de les dades\n",
    "\n",
    "* Selecció del model\n",
    "\n",
    "* Crossvalidation\n",
    "\n",
    "* Anàlisi de resultats\n"
   ]
  },
  {
   "cell_type": "code",
   "execution_count": null,
   "id": "697722e0",
   "metadata": {},
   "outputs": [],
   "source": []
  }
 ],
 "metadata": {
  "kernelspec": {
   "display_name": "Python 3 (ipykernel)",
   "language": "python",
   "name": "python3"
  },
  "language_info": {
   "codemirror_mode": {
    "name": "ipython",
    "version": 3
   },
   "file_extension": ".py",
   "mimetype": "text/x-python",
   "name": "python",
   "nbconvert_exporter": "python",
   "pygments_lexer": "ipython3",
   "version": "3.9.12"
  }
 },
 "nbformat": 4,
 "nbformat_minor": 5
}
